{
 "cells": [
  {
   "cell_type": "code",
   "execution_count": 1,
   "metadata": {},
   "outputs": [],
   "source": [
    "from pathlib import Path\n",
    "import random\n",
    "\n",
    "import matplotlib.pyplot as plt\n",
    "import numpy as np\n",
    "import PIL\n",
    "\n",
    "from sklearn.model_selection import train_test_split\n",
    "from sklearn.linear_model import SGDClassifier\n",
    "import joblib"
   ]
  },
  {
   "cell_type": "code",
   "execution_count": null,
   "metadata": {},
   "outputs": [],
   "source": [
    "dataset = Path('../Rice_Image_Dataset')\n",
    "\n",
    "arborio = list(dataset.glob('Arborio/*'))\n",
    "basmati = list(dataset.glob('Basmati/*'))\n",
    "ipsala = list(dataset.glob('Ipsala/*'))\n",
    "jasmine = list(dataset.glob('Jasmine/*'))\n",
    "karacadag = list(dataset.glob('Karacadag/*'))\n",
    "\n",
    "arborio_train, arborio_test = train_test_split(arborio, test_size=0.2, random_state=random.randint(0,111))\n",
    "basmati_train, basmati_test = train_test_split(basmati, test_size=0.2, random_state=random.randint(0,111))\n",
    "ipsala_train, ipsala_test = train_test_split(ipsala, test_size=0.2, random_state=random.randint(0,111))\n",
    "jasmine_train, jasmine_test = train_test_split(jasmine, test_size=0.2, random_state=random.randint(0,111))\n",
    "karacadag_train, karacadag_test = train_test_split(karacadag, test_size=0.2, random_state=random.randint(0,111))"
   ]
  },
  {
   "cell_type": "code",
   "execution_count": null,
   "metadata": {},
   "outputs": [],
   "source": [
    "clf = SGDClassifier()\n",
    "\n",
    "STEP = 1000\n",
    "COUNT = 12000 # 15000 * 0.8\n",
    "\n",
    "bottom = 0\n",
    "top = bottom + STEP\n",
    "\n",
    "while top <= COUNT:\n",
    "    batch = arborio_train[bottom:top] + basmati_train[bottom:top] + ipsala_train[bottom:top] + jasmine_train[bottom:top] + karacadag_train[bottom:top]\n",
    "\n",
    "    raw_images = []\n",
    "    labels = []\n",
    "\n",
    "    for path in batch:\n",
    "        with PIL.Image.open(str(path)).convert('L') as img:\n",
    "            raw_image = np.array(img.getdata()).flatten()\n",
    "            label = str(path).split('/')[2]\n",
    "            raw_images.append(raw_image)\n",
    "            labels.append(label)\n",
    "\n",
    "    X = np.array(raw_images)\n",
    "    y = np.array(labels)\n",
    "\n",
    "    clf.partial_fit(X, y, classes=['Arborio', 'Basmati', 'Ipsala', 'Jasmine', 'Karacadag'])\n",
    "\n",
    "    bottom += STEP\n",
    "    top += STEP"
   ]
  },
  {
   "cell_type": "code",
   "execution_count": 6,
   "metadata": {},
   "outputs": [
    {
     "name": "stdout",
     "output_type": "stream",
     "text": [
      "0.9362\n",
      "0.9364\n",
      "0.9364\n",
      "0.9363333333333334\n"
     ]
    }
   ],
   "source": [
    "STEP = 1000\n",
    "COUNT = 3000\n",
    "\n",
    "bottom = 0\n",
    "top = bottom + STEP\n",
    "\n",
    "acc_list = []\n",
    "\n",
    "while top <= COUNT:\n",
    "    batch = arborio_test[bottom:top] + basmati_test[bottom:top] + ipsala_test[bottom:top] + jasmine_test[bottom:top] + karacadag_test[bottom:top]\n",
    "\n",
    "    raw_images = []\n",
    "    labels = []\n",
    "\n",
    "    for path in batch:\n",
    "        with PIL.Image.open(str(path)).convert('L') as img:\n",
    "            raw_image = np.array(img.getdata()).flatten()\n",
    "            label = str(path).split('/')[2]\n",
    "            raw_images.append(raw_image)\n",
    "            labels.append(label)\n",
    "\n",
    "    X = np.array(raw_images)\n",
    "    y = np.array(labels)\n",
    "\n",
    "    acc = clf.score(X, y)\n",
    "    print(acc)\n",
    "    acc_list.append(acc)\n",
    "\n",
    "    bottom += STEP\n",
    "    top += STEP\n",
    "\n",
    "print(sum(acc_list) / len(acc_list))"
   ]
  },
  {
   "cell_type": "code",
   "execution_count": null,
   "metadata": {},
   "outputs": [
    {
     "data": {
      "text/plain": [
       "['./objects/log_loss.pkl']"
      ]
     },
     "execution_count": 10,
     "metadata": {},
     "output_type": "execute_result"
    }
   ],
   "source": [
    "joblib.dump(clf, './objects/svm.pkl')"
   ]
  }
 ],
 "metadata": {
  "kernelspec": {
   "display_name": "env",
   "language": "python",
   "name": "python3"
  },
  "language_info": {
   "codemirror_mode": {
    "name": "ipython",
    "version": 3
   },
   "file_extension": ".py",
   "mimetype": "text/x-python",
   "name": "python",
   "nbconvert_exporter": "python",
   "pygments_lexer": "ipython3",
   "version": "3.13.0"
  }
 },
 "nbformat": 4,
 "nbformat_minor": 2
}
