{
 "cells": [
  {
   "cell_type": "code",
   "execution_count": 1,
   "metadata": {},
   "outputs": [],
   "source": [
    "from pathlib import Path\n",
    "import PIL\n",
    "import matplotlib.pyplot as plt"
   ]
  },
  {
   "cell_type": "code",
   "execution_count": 2,
   "metadata": {},
   "outputs": [],
   "source": [
    "my_images = Path('../my_images/original')\n",
    "white = list(my_images.glob('White/*'))\n",
    "basmati = list(my_images.glob('Basmati/*'))\n",
    "jasmine = list(my_images.glob('Jasmine/*'))\n",
    "arborio = list(my_images.glob('Arborio/*'))"
   ]
  },
  {
   "cell_type": "code",
   "execution_count": 3,
   "metadata": {},
   "outputs": [],
   "source": [
    "for index, path in enumerate(white):\n",
    "    with PIL.Image.open(str(path)).convert('L') as img:\n",
    "        img = img.resize((250, 250))\n",
    "        img = img.convert('L')\n",
    "        img = img.point( lambda p: 255 if p > 200 else 0 )\n",
    "        img = img.convert('1')\n",
    "        img.save(f'../my_images/processed/White/White ({index + 1}).jpg')"
   ]
  },
  {
   "cell_type": "code",
   "execution_count": 4,
   "metadata": {},
   "outputs": [],
   "source": [
    "for index, path in enumerate(basmati):\n",
    "    with PIL.Image.open(str(path)).convert('L') as img:\n",
    "        img = img.resize((250, 250))\n",
    "        img = img.convert('L')\n",
    "        img = img.point( lambda p: 255 if p > 200 else 0 )\n",
    "        img = img.convert('1')\n",
    "        img.save(f'../my_images/processed/Basmati/Basmati ({index + 1}).jpg')"
   ]
  },
  {
   "cell_type": "code",
   "execution_count": 5,
   "metadata": {},
   "outputs": [],
   "source": [
    "for index, path in enumerate(jasmine):\n",
    "    with PIL.Image.open(str(path)).convert('L') as img:\n",
    "        img = img.resize((250, 250))\n",
    "        img = img.convert('L')\n",
    "        img = img.point( lambda p: 255 if p > 200 else 0 )\n",
    "        img = img.convert('1')\n",
    "        img.save(f'../my_images/processed/Jasmine/Jasmine ({index + 1}).jpg')"
   ]
  },
  {
   "cell_type": "code",
   "execution_count": 6,
   "metadata": {},
   "outputs": [],
   "source": [
    "for index, path in enumerate(arborio):\n",
    "    with PIL.Image.open(str(path)).convert('L') as img:\n",
    "        img = img.resize((250, 250))\n",
    "        img = img.convert('L')\n",
    "        img = img.point( lambda p: 255 if p > 190 else 0 )\n",
    "        img = img.convert('1')\n",
    "        img.save(f'../my_images/processed/Arborio/Arborio ({index + 1}).jpg')"
   ]
  }
 ],
 "metadata": {
  "kernelspec": {
   "display_name": "env",
   "language": "python",
   "name": "python3"
  },
  "language_info": {
   "codemirror_mode": {
    "name": "ipython",
    "version": 3
   },
   "file_extension": ".py",
   "mimetype": "text/x-python",
   "name": "python",
   "nbconvert_exporter": "python",
   "pygments_lexer": "ipython3",
   "version": "3.13.1"
  }
 },
 "nbformat": 4,
 "nbformat_minor": 2
}
