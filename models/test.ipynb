{
 "cells": [
  {
   "cell_type": "code",
   "execution_count": 41,
   "metadata": {},
   "outputs": [],
   "source": [
    "from pathlib import Path\n",
    "import PIL\n",
    "import matplotlib.pyplot as plt\n",
    "import numpy as np\n",
    "import joblib"
   ]
  },
  {
   "cell_type": "code",
   "execution_count": 42,
   "metadata": {},
   "outputs": [],
   "source": [
    "clf = joblib.load('./objects/perceptron.pkl')\n",
    "my_images = Path('../my_images')\n",
    "white = list(my_images.glob('White/*'))\n",
    "basmati = list(my_images.glob('Basmati/*'))\n",
    "jasmine = list(my_images.glob('Jasmine/*'))"
   ]
  },
  {
   "cell_type": "code",
   "execution_count": 43,
   "metadata": {},
   "outputs": [
    {
     "name": "stdout",
     "output_type": "stream",
     "text": [
      "White (1).jpg predicted as \t['Jasmine']\n",
      "White (2).jpg predicted as \t['Arborio']\n",
      "White (3).jpg predicted as \t['Arborio']\n",
      "White (4).jpg predicted as \t['Ipsala']\n",
      "White (5).jpg predicted as \t['Arborio']\n",
      "White (6).jpg predicted as \t['Basmati']\n",
      "White (7).jpg predicted as \t['Basmati']\n",
      "White (8).jpg predicted as \t['Ipsala']\n",
      "White (9).jpg predicted as \t['Basmati']\n",
      "White (10).jpg predicted as \t['Arborio']\n",
      "White (11).jpg predicted as \t['Karacadag']\n",
      "White (12).jpg predicted as \t['Jasmine']\n"
     ]
    }
   ],
   "source": [
    "for index, path in enumerate(white):\n",
    "    with PIL.Image.open(str(path)).convert('L') as img:\n",
    "        raw_image = np.array([np.array(img.getdata()).flatten()])\n",
    "        prediction = clf.predict(raw_image)\n",
    "        name = str(path).split('/')[-1]\n",
    "        print(f'{name} predicted as \\t{prediction}')"
   ]
  },
  {
   "cell_type": "markdown",
   "metadata": {},
   "source": [
    "That is expected since I tested on some generic white rice and not a particular type of rice."
   ]
  },
  {
   "cell_type": "code",
   "execution_count": 44,
   "metadata": {},
   "outputs": [
    {
     "name": "stdout",
     "output_type": "stream",
     "text": [
      "Basmati (1).jpg predicted as \t['Arborio']\n",
      "Basmati (2).jpg predicted as \t['Arborio']\n",
      "Basmati (3).jpg predicted as \t['Jasmine']\n",
      "Basmati (4).jpg predicted as \t['Arborio']\n",
      "Basmati (5).jpg predicted as \t['Jasmine']\n",
      "Basmati (6).jpg predicted as \t['Arborio']\n",
      "Basmati (7).jpg predicted as \t['Jasmine']\n",
      "Basmati (8).jpg predicted as \t['Basmati']\n",
      "Basmati (9).jpg predicted as \t['Basmati']\n",
      "Basmati (10).jpg predicted as \t['Basmati']\n",
      "Basmati (11).jpg predicted as \t['Arborio']\n",
      "Basmati (12).jpg predicted as \t['Basmati']\n",
      "Basmati (13).jpg predicted as \t['Jasmine']\n",
      "Basmati (14).jpg predicted as \t['Jasmine']\n",
      "Basmati (15).jpg predicted as \t['Basmati']\n",
      "Basmati (16).jpg predicted as \t['Arborio']\n",
      "Basmati (17).jpg predicted as \t['Basmati']\n",
      "Basmati (18).jpg predicted as \t['Basmati']\n",
      "Basmati (19).jpg predicted as \t['Basmati']\n",
      "Basmati (20).jpg predicted as \t['Jasmine']\n"
     ]
    }
   ],
   "source": [
    "for index, path in enumerate(basmati):\n",
    "    with PIL.Image.open(str(path)).convert('L') as img:\n",
    "        raw_image = np.array([np.array(img.getdata()).flatten()])\n",
    "        prediction = clf.predict(raw_image)\n",
    "        name = str(path).split('/')[-1]\n",
    "        print(f'{name} predicted as \\t{prediction}')"
   ]
  },
  {
   "cell_type": "markdown",
   "metadata": {},
   "source": [
    "What I can notice is that the model tends to predict shorter grains as Arborio and longer grains as Jasmine. It only predicts the last two images as Basmati."
   ]
  },
  {
   "cell_type": "code",
   "execution_count": 45,
   "metadata": {},
   "outputs": [
    {
     "name": "stdout",
     "output_type": "stream",
     "text": [
      "Jasmine (1).jpg predicted as \t['Basmati']\n",
      "Jasmine (2).jpg predicted as \t['Basmati']\n",
      "Jasmine (3).jpg predicted as \t['Basmati']\n",
      "Jasmine (4).jpg predicted as \t['Jasmine']\n",
      "Jasmine (5).jpg predicted as \t['Jasmine']\n",
      "Jasmine (6).jpg predicted as \t['Jasmine']\n",
      "Jasmine (7).jpg predicted as \t['Basmati']\n",
      "Jasmine (8).jpg predicted as \t['Ipsala']\n",
      "Jasmine (9).jpg predicted as \t['Basmati']\n",
      "Jasmine (10).jpg predicted as \t['Basmati']\n"
     ]
    }
   ],
   "source": [
    "for index, path in enumerate(jasmine):\n",
    "    with PIL.Image.open(str(path)).convert('L') as img:\n",
    "        raw_image = np.array([np.array(img.getdata()).flatten()])\n",
    "        prediction = clf.predict(raw_image)\n",
    "        name = str(path).split('/')[-1]\n",
    "        print(f'{name} predicted as \\t{prediction}')"
   ]
  }
 ],
 "metadata": {
  "kernelspec": {
   "display_name": "env",
   "language": "python",
   "name": "python3"
  },
  "language_info": {
   "codemirror_mode": {
    "name": "ipython",
    "version": 3
   },
   "file_extension": ".py",
   "mimetype": "text/x-python",
   "name": "python",
   "nbconvert_exporter": "python",
   "pygments_lexer": "ipython3",
   "version": "3.13.0"
  }
 },
 "nbformat": 4,
 "nbformat_minor": 2
}
